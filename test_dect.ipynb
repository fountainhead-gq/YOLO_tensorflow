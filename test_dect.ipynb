{
 "cells": [
  {
   "cell_type": "markdown",
   "metadata": {},
   "source": [
    "### download data\n",
    "\n",
    "[Downloading Pascal VOC data](http://pjreddie.com/media/files/VOCtrainval_06-Nov-2007.tar)"
   ]
  },
  {
   "cell_type": "code",
   "execution_count": 1,
   "metadata": {
    "collapsed": false
   },
   "outputs": [],
   "source": [
    "import os\n",
    "import cv2\n",
    "import sys\n",
    "from utils.pascal_voc import pascal_voc\n",
    "from yolo.yolo_net import YOLO_TF\n",
    "from yolo.yolo_detect import YOLO_Detector\n",
    "from yolo.yolo_train import Solver"
   ]
  },
  {
   "cell_type": "code",
   "execution_count": 2,
   "metadata": {
    "collapsed": false
   },
   "outputs": [
    {
     "name": "stdout",
     "output_type": "stream",
     "text": [
      "INFO:tensorflow:Restoring parameters from data/weights\\YOLO_small.ckpt\n"
     ]
    }
   ],
   "source": [
    "yolo = YOLO_TF()\n",
    "weight_file = os.path.join(r'data/weights','YOLO_small.ckpt')\n",
    "detector = YOLO_Detector(yolo, weight_file)"
   ]
  },
  {
   "cell_type": "code",
   "execution_count": null,
   "metadata": {
    "collapsed": false
   },
   "outputs": [],
   "source": [
    "# 检测图片\n",
    "imname = 'test/000007.jpg'\n",
    "detector.image_detector(imname)"
   ]
  },
  {
   "cell_type": "code",
   "execution_count": null,
   "metadata": {
    "collapsed": false
   },
   "outputs": [],
   "source": [
    "# 检测视频\n",
    "cap ='test/plane.mp4'\n",
    "detector.camera_detector(cap)"
   ]
  },
  {
   "cell_type": "code",
   "execution_count": null,
   "metadata": {
    "collapsed": false
   },
   "outputs": [],
   "source": [
    "# 检测视频\n",
    "video ='test/Cat.mp4'\n",
    "detector.detect_from_video(video)"
   ]
  },
  {
   "cell_type": "code",
   "execution_count": null,
   "metadata": {
    "collapsed": true
   },
   "outputs": [],
   "source": [
    "pascal = pascal_voc('train')\n",
    "solver = Solver(yolo, pascal)\n",
    "\n",
    "print('Start training ...')\n",
    "solver.train()\n",
    "print('Done training.')"
   ]
  },
  {
   "cell_type": "code",
   "execution_count": null,
   "metadata": {
    "collapsed": true
   },
   "outputs": [],
   "source": [
    "# parser = argparse.ArgumentParser()\n",
    "# parser.add_argument('--weights', default=\"YOLO_small.ckpt\", type=str)\n",
    "# parser.add_argument('--weight_dir', default='weights', type=str)\n",
    "# parser.add_argument('--data_dir', default=\"data\", type=str)\n",
    "# parser.add_argument('--gpu', default='', type=str)\n",
    "# args = parser.parse_args()\n",
    "\n",
    "# os.environ['CUDA_VISIBLE_DEVICES'] = args.gpu\n",
    "\n",
    "# yolo = YOLONet(False)\n",
    "# weight_file = os.path.join(args.data_dir, args.weight_dir, args.weights)\n",
    "# detector = Detector(yolo, weight_file)\n",
    "\n",
    "# # detect from camera\n",
    "# # cap = cv2.VideoCapture(-1)\n",
    "# # detector.camera_detector(cap)\n",
    "\n",
    "# # detect from image file\n",
    "# imname = 'test/person.jpg'\n",
    "# detector.image_detector(imname)\n",
    "    "
   ]
  },
  {
   "cell_type": "code",
   "execution_count": null,
   "metadata": {
    "collapsed": true
   },
   "outputs": [],
   "source": []
  }
 ],
 "metadata": {
  "kernelspec": {
   "display_name": "python3.5",
   "language": "python",
   "name": "python3.5"
  },
  "language_info": {
   "codemirror_mode": {
    "name": "ipython",
    "version": 3
   },
   "file_extension": ".py",
   "mimetype": "text/x-python",
   "name": "python",
   "nbconvert_exporter": "python",
   "pygments_lexer": "ipython3",
   "version": "3.5.3"
  },
  "latex_envs": {
   "LaTeX_envs_menu_present": true,
   "autocomplete": true,
   "bibliofile": "biblio.bib",
   "cite_by": "apalike",
   "current_citInitial": 1,
   "eqLabelWithNumbers": true,
   "eqNumInitial": 1,
   "hotkeys": {
    "equation": "Ctrl-E",
    "itemize": "Ctrl-I"
   },
   "labels_anchors": false,
   "latex_user_defs": false,
   "report_style_numbering": false,
   "user_envs_cfg": false
  }
 },
 "nbformat": 4,
 "nbformat_minor": 2
}
